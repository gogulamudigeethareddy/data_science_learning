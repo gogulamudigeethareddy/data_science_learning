{
 "cells": [
  {
   "cell_type": "code",
   "execution_count": 1,
   "id": "d54da45a",
   "metadata": {},
   "outputs": [
    {
     "data": {
      "application/json": {
       "cell": {
        "!": "OSMagics",
        "HTML": "Other",
        "SVG": "Other",
        "bash": "Other",
        "capture": "ExecutionMagics",
        "debug": "ExecutionMagics",
        "file": "Other",
        "html": "DisplayMagics",
        "javascript": "DisplayMagics",
        "js": "DisplayMagics",
        "latex": "DisplayMagics",
        "markdown": "DisplayMagics",
        "perl": "Other",
        "prun": "ExecutionMagics",
        "pypy": "Other",
        "python": "Other",
        "python2": "Other",
        "python3": "Other",
        "ruby": "Other",
        "script": "ScriptMagics",
        "sh": "Other",
        "svg": "DisplayMagics",
        "sx": "OSMagics",
        "system": "OSMagics",
        "time": "ExecutionMagics",
        "timeit": "ExecutionMagics",
        "writefile": "OSMagics"
       },
       "line": {
        "alias": "OSMagics",
        "alias_magic": "BasicMagics",
        "autoawait": "AsyncMagics",
        "autocall": "AutoMagics",
        "automagic": "AutoMagics",
        "autosave": "KernelMagics",
        "bookmark": "OSMagics",
        "cat": "Other",
        "cd": "OSMagics",
        "clear": "KernelMagics",
        "colors": "BasicMagics",
        "conda": "PackagingMagics",
        "config": "ConfigMagics",
        "connect_info": "KernelMagics",
        "cp": "Other",
        "debug": "ExecutionMagics",
        "dhist": "OSMagics",
        "dirs": "OSMagics",
        "doctest_mode": "BasicMagics",
        "ed": "Other",
        "edit": "KernelMagics",
        "env": "OSMagics",
        "gui": "BasicMagics",
        "hist": "Other",
        "history": "HistoryMagics",
        "killbgscripts": "ScriptMagics",
        "ldir": "Other",
        "less": "KernelMagics",
        "lf": "Other",
        "lk": "Other",
        "ll": "Other",
        "load": "CodeMagics",
        "load_ext": "ExtensionMagics",
        "loadpy": "CodeMagics",
        "logoff": "LoggingMagics",
        "logon": "LoggingMagics",
        "logstart": "LoggingMagics",
        "logstate": "LoggingMagics",
        "logstop": "LoggingMagics",
        "ls": "Other",
        "lsmagic": "BasicMagics",
        "lx": "Other",
        "macro": "ExecutionMagics",
        "magic": "BasicMagics",
        "man": "KernelMagics",
        "matplotlib": "PylabMagics",
        "mkdir": "Other",
        "more": "KernelMagics",
        "mv": "Other",
        "notebook": "BasicMagics",
        "page": "BasicMagics",
        "pastebin": "CodeMagics",
        "pdb": "ExecutionMagics",
        "pdef": "NamespaceMagics",
        "pdoc": "NamespaceMagics",
        "pfile": "NamespaceMagics",
        "pinfo": "NamespaceMagics",
        "pinfo2": "NamespaceMagics",
        "pip": "PackagingMagics",
        "popd": "OSMagics",
        "pprint": "BasicMagics",
        "precision": "BasicMagics",
        "prun": "ExecutionMagics",
        "psearch": "NamespaceMagics",
        "psource": "NamespaceMagics",
        "pushd": "OSMagics",
        "pwd": "OSMagics",
        "pycat": "OSMagics",
        "pylab": "PylabMagics",
        "qtconsole": "KernelMagics",
        "quickref": "BasicMagics",
        "recall": "HistoryMagics",
        "rehashx": "OSMagics",
        "reload_ext": "ExtensionMagics",
        "rep": "Other",
        "rerun": "HistoryMagics",
        "reset": "NamespaceMagics",
        "reset_selective": "NamespaceMagics",
        "rm": "Other",
        "rmdir": "Other",
        "run": "ExecutionMagics",
        "save": "CodeMagics",
        "sc": "OSMagics",
        "set_env": "OSMagics",
        "store": "StoreMagics",
        "sx": "OSMagics",
        "system": "OSMagics",
        "tb": "ExecutionMagics",
        "time": "ExecutionMagics",
        "timeit": "ExecutionMagics",
        "unalias": "OSMagics",
        "unload_ext": "ExtensionMagics",
        "who": "NamespaceMagics",
        "who_ls": "NamespaceMagics",
        "whos": "NamespaceMagics",
        "xdel": "NamespaceMagics",
        "xmode": "BasicMagics"
       }
      },
      "text/plain": [
       "Available line magics:\n",
       "%alias  %alias_magic  %autoawait  %autocall  %automagic  %autosave  %bookmark  %cat  %cd  %clear  %colors  %conda  %config  %connect_info  %cp  %debug  %dhist  %dirs  %doctest_mode  %ed  %edit  %env  %gui  %hist  %history  %killbgscripts  %ldir  %less  %lf  %lk  %ll  %load  %load_ext  %loadpy  %logoff  %logon  %logstart  %logstate  %logstop  %ls  %lsmagic  %lx  %macro  %magic  %man  %matplotlib  %mkdir  %more  %mv  %notebook  %page  %pastebin  %pdb  %pdef  %pdoc  %pfile  %pinfo  %pinfo2  %pip  %popd  %pprint  %precision  %prun  %psearch  %psource  %pushd  %pwd  %pycat  %pylab  %qtconsole  %quickref  %recall  %rehashx  %reload_ext  %rep  %rerun  %reset  %reset_selective  %rm  %rmdir  %run  %save  %sc  %set_env  %store  %sx  %system  %tb  %time  %timeit  %unalias  %unload_ext  %who  %who_ls  %whos  %xdel  %xmode\n",
       "\n",
       "Available cell magics:\n",
       "%%!  %%HTML  %%SVG  %%bash  %%capture  %%debug  %%file  %%html  %%javascript  %%js  %%latex  %%markdown  %%perl  %%prun  %%pypy  %%python  %%python2  %%python3  %%ruby  %%script  %%sh  %%svg  %%sx  %%system  %%time  %%timeit  %%writefile\n",
       "\n",
       "Automagic is ON, % prefix IS NOT needed for line magics."
      ]
     },
     "execution_count": 1,
     "metadata": {},
     "output_type": "execute_result"
    }
   ],
   "source": [
    "%lsmagic"
   ]
  },
  {
   "cell_type": "code",
   "execution_count": 2,
   "id": "e5014ba5",
   "metadata": {},
   "outputs": [
    {
     "name": "stdout",
     "output_type": "stream",
     "text": [
      "Total number of aliases: 12\n"
     ]
    },
    {
     "data": {
      "text/plain": [
       "[('cat', 'cat'),\n",
       " ('cp', 'cp'),\n",
       " ('ldir', 'ls -F -G -l %l | grep /$'),\n",
       " ('lf', 'ls -F -l -G %l | grep ^-'),\n",
       " ('lk', 'ls -F -l -G %l | grep ^l'),\n",
       " ('ll', 'ls -F -l -G'),\n",
       " ('ls', 'ls -F -G'),\n",
       " ('lx', 'ls -F -l -G %l | grep ^-..x'),\n",
       " ('mkdir', 'mkdir'),\n",
       " ('mv', 'mv'),\n",
       " ('rm', 'rm'),\n",
       " ('rmdir', 'rmdir')]"
      ]
     },
     "execution_count": 2,
     "metadata": {},
     "output_type": "execute_result"
    }
   ],
   "source": [
    "%alias"
   ]
  },
  {
   "cell_type": "code",
   "execution_count": 3,
   "id": "5e0f0a91",
   "metadata": {},
   "outputs": [
    {
     "data": {
      "text/plain": [
       "'/Users/geethareddy/Documents/data_science_learning'"
      ]
     },
     "execution_count": 3,
     "metadata": {},
     "output_type": "execute_result"
    }
   ],
   "source": [
    "%pwd"
   ]
  },
  {
   "cell_type": "code",
   "execution_count": 4,
   "id": "f06a0cc5",
   "metadata": {},
   "outputs": [
    {
     "name": "stdout",
     "output_type": "stream",
     "text": [
      "Magic Commands.ipynb\r\n",
      "Notebook1.ipynb\r\n",
      "README.md\r\n",
      "Sample-Spreadsheet-10-rows.csv\r\n",
      "Untitled.ipynb\r\n",
      "activity-limitations-total-responses-2018-census-csv.csv\r\n",
      "newfile.py\r\n",
      "newsublimetxt.py\r\n",
      "program.py\r\n",
      "test.ipynb\r\n"
     ]
    }
   ],
   "source": [
    "%ls"
   ]
  },
  {
   "cell_type": "code",
   "execution_count": 5,
   "id": "b6b6cd76",
   "metadata": {},
   "outputs": [
    {
     "name": "stdout",
     "output_type": "stream",
     "text": [
      "cat: datasets/laptops.csv: No such file or directory\r\n"
     ]
    }
   ],
   "source": [
    "%cat datasets/laptops.csv"
   ]
  },
  {
   "cell_type": "code",
   "execution_count": 6,
   "id": "e800f11d",
   "metadata": {},
   "outputs": [
    {
     "name": "stdout",
     "output_type": "stream",
     "text": [
      "1,\"Eldon Base for stackable storage shelf, platinum\",Muhammed MacIntyre,3,-213.25,38.94,35,Nunavut,Storage & Organization,0.8\r",
      "\r\n",
      "2,\"1.7 Cubic Foot Compact \"\"Cube\"\" Office Refrigerators\",Barry French,293,457.81,208.16,68.02,Nunavut,Appliances,0.58\r",
      "\r\n",
      "3,\"Cardinal Slant-D� Ring Binder, Heavy Gauge Vinyl\",Barry French,293,46.71,8.69,2.99,Nunavut,Binders and Binder Accessories,0.39\r",
      "\r\n",
      "4,R380,Clay Rozendal,483,1198.97,195.99,3.99,Nunavut,Telephones and Communication,0.58\r",
      "\r\n",
      "5,Holmes HEPA Air Purifier,Carlos Soltero,515,30.94,21.78,5.94,Nunavut,Appliances,0.5\r",
      "\r\n",
      "6,G.E. Longer-Life Indoor Recessed Floodlight Bulbs,Carlos Soltero,515,4.43,6.64,4.95,Nunavut,Office Furnishings,0.37\r",
      "\r\n",
      "7,\"Angle-D Binders with Locking Rings, Label Holders\",Carl Jackson,613,-54.04,7.3,7.72,Nunavut,Binders and Binder Accessories,0.38\r",
      "\r\n",
      "8,\"SAFCO Mobile Desk Side File, Wire Frame\",Carl Jackson,613,127.70,42.76,6.22,Nunavut,Storage & Organization,\r",
      "\r\n",
      "9,\"SAFCO Commercial Wire Shelving, Black\",Monica Federle,643,-695.26,138.14,35,Nunavut,Storage & Organization,\r",
      "\r\n",
      "10,Xerox 198,Dorothy Badders,678,-226.36,4.98,8.33,Nunavut,Paper,0.38\r",
      "\r\n"
     ]
    }
   ],
   "source": [
    "%cat Sample-Spreadsheet-10-rows.csv #to list contents of the file"
   ]
  },
  {
   "cell_type": "code",
   "execution_count": 7,
   "id": "99665f3e",
   "metadata": {},
   "outputs": [
    {
     "name": "stdout",
     "output_type": "stream",
     "text": [
      "Magic Commands.ipynb\r\n",
      "Notebook1.ipynb\r\n",
      "README.md\r\n",
      "Sample-Spreadsheet-10-rows.csv\r\n",
      "Untitled.ipynb\r\n",
      "activity-limitations-total-responses-2018-census-csv.csv\r\n",
      "newfile.py\r\n",
      "newsublimetxt.py\r\n",
      "program.py\r\n",
      "\u001b[34msome_dir\u001b[m\u001b[m/\r\n",
      "test.ipynb\r\n"
     ]
    }
   ],
   "source": [
    "%mkdir some_dir\n",
    "%ls"
   ]
  },
  {
   "cell_type": "code",
   "execution_count": 9,
   "id": "ba575c10",
   "metadata": {},
   "outputs": [
    {
     "name": "stdout",
     "output_type": "stream",
     "text": [
      "rmdir: some_dir: No such file or directory\n",
      "Magic Commands.ipynb\n",
      "Notebook1.ipynb\n",
      "README.md\n",
      "Sample-Spreadsheet-10-rows.csv\n",
      "Untitled.ipynb\n",
      "activity-limitations-total-responses-2018-census-csv.csv\n",
      "newfile.py\n",
      "newsublimetxt.py\n",
      "program.py\n",
      "test.ipynb\n"
     ]
    }
   ],
   "source": [
    "%rmdir some_dir\n",
    "%ls"
   ]
  },
  {
   "cell_type": "code",
   "execution_count": 10,
   "id": "caf2c4f1",
   "metadata": {},
   "outputs": [
    {
     "name": "stdout",
     "output_type": "stream",
     "text": [
      "\r\n",
      "def square(x):\r\n",
      "\treturn x**2\r\n",
      "\r\n",
      "\r\n",
      "for i in range(1,4):\r\n",
      "\tprint(\"Square of %s is\"%i, square(i))\r\n"
     ]
    }
   ],
   "source": [
    "!cat program.py "
   ]
  },
  {
   "cell_type": "code",
   "execution_count": 13,
   "id": "3ec28c30",
   "metadata": {},
   "outputs": [
    {
     "name": "stdout",
     "output_type": "stream",
     "text": [
      "Square of 1 is 1\n",
      "Square of 2 is 4\n",
      "Square of 3 is 9\n"
     ]
    }
   ],
   "source": [
    "# %load 'program.py'\n",
    "\n",
    "def square(x):\n",
    "\treturn x**2\n",
    "\n",
    "\n",
    "for i in range(1,4):\n",
    "\tprint(\"Square of %s is\"%i, square(i))\n"
   ]
  },
  {
   "cell_type": "code",
   "execution_count": 18,
   "id": "b43b9749",
   "metadata": {},
   "outputs": [],
   "source": [
    "%matplotlib inline"
   ]
  },
  {
   "cell_type": "code",
   "execution_count": 19,
   "id": "19090370",
   "metadata": {},
   "outputs": [],
   "source": [
    "%alias paranthesis echo 'Input in paranthesis: <%l>'"
   ]
  },
  {
   "cell_type": "code",
   "execution_count": 20,
   "id": "8d4caf41",
   "metadata": {},
   "outputs": [
    {
     "name": "stdout",
     "output_type": "stream",
     "text": [
      "Input in paranthesis: <Hello world>\r\n"
     ]
    }
   ],
   "source": [
    "paranthesis Hello world"
   ]
  },
  {
   "cell_type": "code",
   "execution_count": 22,
   "id": "2a4ab2c2",
   "metadata": {},
   "outputs": [
    {
     "name": "stdout",
     "output_type": "stream",
     "text": [
      "Good Morning\n"
     ]
    },
    {
     "data": {
      "text/plain": [
       "0.00012922286987304688"
      ]
     },
     "execution_count": 22,
     "metadata": {},
     "output_type": "execute_result"
    }
   ],
   "source": [
    "import time\n",
    "start = time.time()\n",
    "print('Good Morning')\n",
    "elapsed_time_f1 = (time.time()-start)\n",
    "elapsed_time_f1"
   ]
  },
  {
   "cell_type": "code",
   "execution_count": 23,
   "id": "e3b4ff84",
   "metadata": {},
   "outputs": [
    {
     "name": "stdout",
     "output_type": "stream",
     "text": [
      "CPU times: user 6 µs, sys: 2 µs, total: 8 µs\n",
      "Wall time: 14.8 µs\n",
      "Hello\n"
     ]
    }
   ],
   "source": [
    "%time\n",
    "print(\"Hello\")"
   ]
  },
  {
   "cell_type": "code",
   "execution_count": 25,
   "id": "23ea17e0",
   "metadata": {},
   "outputs": [
    {
     "data": {
      "text/html": [
       "<h1>First Heading</h1>\n",
       "<h2>Second heading</h2>\n",
       "<p>Paragraph</p>\n"
      ],
      "text/plain": [
       "<IPython.core.display.HTML object>"
      ]
     },
     "metadata": {},
     "output_type": "display_data"
    }
   ],
   "source": [
    "%%html\n",
    "<h1>First Heading</h1>\n",
    "<h2>Second heading</h2>\n",
    "<p>Paragraph</p>"
   ]
  },
  {
   "cell_type": "code",
   "execution_count": 26,
   "id": "a29c0d0a",
   "metadata": {},
   "outputs": [
    {
     "data": {
      "text/markdown": [
       "Markdown cell\n"
      ],
      "text/plain": [
       "<IPython.core.display.Markdown object>"
      ]
     },
     "metadata": {},
     "output_type": "display_data"
    }
   ],
   "source": [
    "%%markdown\n",
    "Markdown cell"
   ]
  },
  {
   "cell_type": "code",
   "execution_count": 29,
   "id": "7246120d",
   "metadata": {},
   "outputs": [
    {
     "name": "stdout",
     "output_type": "stream",
     "text": [
      "Hello\n"
     ]
    }
   ],
   "source": [
    "%%python3\n",
    "print(\"Hello\")"
   ]
  },
  {
   "cell_type": "code",
   "execution_count": 31,
   "id": "c673b1e1",
   "metadata": {},
   "outputs": [
    {
     "name": "stdout",
     "output_type": "stream",
     "text": [
      "Hello, World!\n"
     ]
    }
   ],
   "source": [
    "%%ruby\n",
    "puts \"Hello, World!\""
   ]
  },
  {
   "cell_type": "code",
   "execution_count": 33,
   "id": "dbcceb08",
   "metadata": {},
   "outputs": [
    {
     "data": {
      "application/javascript": [
       "var msg = \"Hello World\"\n",
       "alert(msg)\n"
      ],
      "text/plain": [
       "<IPython.core.display.Javascript object>"
      ]
     },
     "metadata": {},
     "output_type": "display_data"
    }
   ],
   "source": [
    "%%javascript\n",
    "var msg = \"Hello World\"\n",
    "alert(msg)"
   ]
  },
  {
   "cell_type": "code",
   "execution_count": null,
   "id": "5e89e4a7",
   "metadata": {},
   "outputs": [],
   "source": []
  }
 ],
 "metadata": {
  "kernelspec": {
   "display_name": "Python 3 (ipykernel)",
   "language": "python",
   "name": "python3"
  },
  "language_info": {
   "codemirror_mode": {
    "name": "ipython",
    "version": 3
   },
   "file_extension": ".py",
   "mimetype": "text/x-python",
   "name": "python",
   "nbconvert_exporter": "python",
   "pygments_lexer": "ipython3",
   "version": "3.10.9"
  }
 },
 "nbformat": 4,
 "nbformat_minor": 5
}
