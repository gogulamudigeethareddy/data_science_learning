


if 15<24:
    print("15 is less than 24")




if 10==20:
    print("10 is exactly equal to 20")



if not 10==20:
    print("10 is not exactly equal to 20")





num = 5
if num>0:
    print("The number is greater than zero:",num)





if num:
    print("The number is greater than zero:",num)


 


salary = 1000
expenses = 600




living_within_means = False
if salary-expenses > 0:
    living_within_means = True



print("living within means")







